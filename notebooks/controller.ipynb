{
 "cells": [
  {
   "cell_type": "code",
   "execution_count": null,
   "id": "b3ca5c1f",
   "metadata": {},
   "outputs": [],
   "source": [
    "import cityflow\n",
    "eng = cityflow.Engine(config_file=\"./config/config.json\", thread_num=4)\n",
    "for step in range(1000):\n",
    "    eng.next_step()\n"
   ]
  }
 ],
 "metadata": {
  "kernelspec": {
   "display_name": ".conda",
   "language": "python",
   "name": "python3"
  },
  "language_info": {
   "name": "python",
   "version": "3.11.14"
  }
 },
 "nbformat": 4,
 "nbformat_minor": 5
}
