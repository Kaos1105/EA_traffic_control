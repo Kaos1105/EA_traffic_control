{
 "cells": [
  {
   "cell_type": "code",
   "execution_count": 4,
   "id": "b0fe692c",
   "metadata": {},
   "outputs": [],
   "source": [
    "import cityflow\n",
    "eng = cityflow.Engine('./CityFlow_cfg/config.json', thread_num=2)\n",
    "\n",
    "for step in range(1000):\n",
    "    # If you are controlling traffic lights, do it here:\n",
    "    # eng.set_tl_phase(\"intersection_id\", phase_id)\n",
    "    \n",
    "    eng.next_step()"
   ]
  }
 ],
 "metadata": {
  "kernelspec": {
   "display_name": "de_traffic_control",
   "language": "python",
   "name": "python3"
  },
  "language_info": {
   "codemirror_mode": {
    "name": "ipython",
    "version": 3
   },
   "file_extension": ".py",
   "mimetype": "text/x-python",
   "name": "python",
   "nbconvert_exporter": "python",
   "pygments_lexer": "ipython3",
   "version": "3.10.19"
  }
 },
 "nbformat": 4,
 "nbformat_minor": 5
}
