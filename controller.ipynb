{
 "cells": [
  {
   "cell_type": "code",
   "execution_count": 1,
   "id": "b0fe692c",
   "metadata": {},
   "outputs": [
    {
     "name": "stderr",
     "output_type": "stream",
     "text": [
      "cannot open roadnet file\n",
      "loading roadnet file error!\n",
      "load config failed!\n"
     ]
    }
   ],
   "source": [
    "import cityflow\n",
    "eng = cityflow.Engine('./CityFlow/examples/config.json', thread_num=2)"
   ]
  }
 ],
 "metadata": {
  "kernelspec": {
   "display_name": "de_traffic_control",
   "language": "python",
   "name": "python3"
  },
  "language_info": {
   "codemirror_mode": {
    "name": "ipython",
    "version": 3
   },
   "file_extension": ".py",
   "mimetype": "text/x-python",
   "name": "python",
   "nbconvert_exporter": "python",
   "pygments_lexer": "ipython3",
   "version": "3.10.19"
  }
 },
 "nbformat": 4,
 "nbformat_minor": 5
}
